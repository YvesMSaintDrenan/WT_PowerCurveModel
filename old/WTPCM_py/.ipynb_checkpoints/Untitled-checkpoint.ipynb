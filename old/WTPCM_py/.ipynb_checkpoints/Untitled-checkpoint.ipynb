{
 "cells": [
  {
   "cell_type": "markdown",
   "id": "fd409a05",
   "metadata": {},
   "source": [
    "# Modelling the generic power curve as a function of rotor area and nominal power as well as environmental chararcteristics "
   ]
  },
  {
   "cell_type": "code",
   "execution_count": 2,
   "id": "452031f4",
   "metadata": {
    "ExecuteTime": {
     "end_time": "2023-05-14T22:21:16.866986Z",
     "start_time": "2023-05-14T22:21:16.831451Z"
    }
   },
   "outputs": [],
   "source": [
    "import numpy as np\n",
    "\n",
    "def CpLambdaModels(Model,TSR,Beta=[]):\n",
    "    \n",
    "    vSources=['Slootweg et al. 2003','Heier 2009','Thongam et al. 2009','De Kooning et al.  2010','Ochieng et Manyonge 2014','Dai et al. 2016']\n",
    "\n",
    "    if Beta==[]:\n",
    "        Beta=zeros(size(TSR));\n",
    "    if Model=='Slootweg et al. 2003':\n",
    "        c1,c2,c3,c4,c5,c6,c7,c8,c9,c10=0.73,151,0.58,0,0.002,13.2,18.4,0,-0.02,0.003\n",
    "        x=2.14\n",
    "    elif  Model=='Heier 2009':\n",
    "        c1,c2,c3,c4,c5,c6,c7,c8,c9,c10=0.5,116,0.4,0,0,5,21,0,0.089,0.035\n",
    "        x=0\n",
    "    elif  Model=='Thongam et al. 2009':\n",
    "        c1,c2,c3,c4,c5,c6,c7,c8,c9,c10=0.5176,116,0.4,0,0,5,21,0.006795,0.089,0.035\n",
    "        x=0\n",
    "    elif  Model=='De Kooning et al.  2010':\n",
    "        c1,c2,c3,c4,c5,c6,c7,c8,c9,c10=0.77,151,0,0,0,13.65,18.4,0,0,0\n",
    "        x=0\n",
    "    elif  Model=='Ochieng et Manyonge 2014':\n",
    "        c1,c2,c3,c4,c5,c6,c7,c8,c9,c10=0.5,116,0,0.4,0,5,21,0,0.08,0.035\n",
    "        x=0\n",
    "    elif  Model=='Dai et al. 2016':\n",
    "        c1,c2,c3,c4,c5,c6,c7,c8,c9,c10=0.22,120,0.4,0,0,5,12.5,0,0.08,0.035\n",
    "        x=0\n",
    "\n",
    "    Li=1/(1/(TSR+c9*Beta)-c10/(Beta**3+1));\n",
    "    Cp=np.maximum(0,c1*(c2/Li-c3*Beta-c4*Li*Beta-c5*Beta**x-c6)*np.exp(-c7/Li)+c8*TSR);\n",
    "    return Cp"
   ]
  },
  {
   "cell_type": "code",
   "execution_count": null,
   "id": "a5f965e6",
   "metadata": {},
   "outputs": [],
   "source": [
    "def function Eval_WT_PowerCurve_C3S(Pnom,Drotor,Vcutin=3,Vcutoff=25,rMin=[],rMax=[],CpMax=[],]model='Dai et al. 2016',TI=0.1,AirDensity=1.225,Vws=np.arange(0,30,0.001))\n",
    "\n",
    "    Rrotor = Drotor/2\n",
    "    Arotor = pi*Rrotor**2\n",
    "\n",
    "    # 1) Parameterisation of the minimal and maximal rotor rotational speed as a\n",
    "    # function of the rotor diameter + calculation of VtipMin & VtipMax\n",
    "    # source: http://publications.lib.chalmers.se/records/fulltext/179591/179591.pdf\n",
    "\n",
    "    if rMin==[]:\n",
    "        rMin=188.8*Drotor**(-0.7081)   # minimal angular speed in rpm\n",
    "    if rMax==[]:\n",
    "        rMax=793.7*Drotor**(-0.8504);      # maximal angular speed in rpm\n",
    "    VtipMin=rMin*(2*pi*Rrotor)/60   # minimal tip speed in m/s\n",
    "    VtipMax=rMax*(2*pi*Rrotor)/60  # maximal tip speed in m/s\n",
    "\n",
    "    # 2) Calculation of the tip speed as a function of the wind speed by\n",
    "    # assuming that:\n",
    "    # a) the tip speed is set to maximize the energy output (*),\n",
    "    #    which is achieved by setting lambda to lambdaopt, \n",
    "    # b) and assuming that Vtip is always comprised between VtipMin and VtipMax (**)\n",
    "    # c) using an expression of cp as a function of lambda from (***) (no pitch control\n",
    "    # assumed (**))\n",
    "    # Sources:\n",
    "    # (*) http://mstudioblackboard.tudelft.nl/duwind/Wind%20energy%20online%20reader/Static_pages/Cp_lamda_curve.htm\n",
    "    # (**) http://www.mdpi.com/1996-1073/10/3/395\n",
    "    # (***)http://ieeexplore.ieee.org/stamp/stamp.jsp?arnumber=6699403\n",
    "\n",
    "    lambda=0:0.001:12;\n",
    "%Cpfct=@(lambda) 0.73*(151./lambda-13.65).*exp(-18.4./lambda+0.055);\n",
    "Cpfct=@(lambda) CpLambdaModels(iModel,lambda);\n",
    "CpScale=1;\n",
    "if ~isnan(CpMAX)\n",
    "    CpScale=CpMAX/max(Cpfct(lambda));\n",
    "end\n",
    "lambdaOpt=lambda(Cpfct(lambda)==max(Cpfct(lambda)));\n",
    "Vtip0=lambdaOpt*Vws;\n",
    "Vtip=min(VtipMax,max(VtipMin,Vtip0));\n",
    "%plot(Vws,Vtip)\n",
    "\n",
    "TSR=Vtip./Vws;\n",
    "Cp0=max(0,CpScale*Cpfct(TSR));\n",
    "\n",
    "Pin=0.5*AirDensity*Arotor*Vws.^3/1000;\n",
    "Cp=min(Cp0,Pnom./Pin);\n",
    "Pout = Cp.*Pin;\n",
    "%%\n",
    "%WT_PwC.vTI=0:2.5:15;\n",
    "WT_PwC.PoutTI=[];\n",
    "Pout0=reshape(Pout,[],1);\n",
    "Vws=reshape(Vws,[],1);\n",
    "if TI>0\n",
    "\n",
    "CoeffWS=1+linspace(-3*TI/100,3*TI/100,100);\n",
    "Pout_TI=zeros(size(Pout0));\n",
    "SumW=zeros(size(Pout0));\n",
    "tt0=[];\n",
    "tt1=[];\n",
    "tt2=[];\n",
    "for iiK=1:length(CoeffWS)\n",
    "    varVws=CoeffWS(iiK)*Vws;\n",
    "    STD=TI*Vws;\n",
    "    varW=1./sqrt(2*pi*STD.^2).*exp(-0.5*((varVws-Vws)./STD).^2);\n",
    "    tPout=interp1([-100;Vws;100],[0;Pout0;Pout0(end)],varVws);\n",
    "    tt0=[tt0,varVws(21)];\n",
    "    tt1=[tt1,varW(21)];\n",
    "    tt2=[tt2,tPout(21)];\n",
    "    Pout_TI=Pout_TI+varW.*tPout;\n",
    "    SumW=SumW+varW;\n",
    "end\n",
    "WT_PwC.PoutTI=Pout_TI./SumW;\n",
    "else\n",
    "    WT_PwC.PoutTI=Pout;\n",
    "end\n",
    "%%\n",
    "WT_PwC.PoutTI(WT_PwC.Vws>Vcutoff)=0;\n",
    "WT_PwC.PoutTI(WT_PwC.Vws<Vcutin)=0;\n",
    "WT_PwC.Pout(WT_PwC.Vws>Vcutoff)=0;\n",
    "WT_PwC.Pout(WT_PwC.Vws<Vcutin)=0;\n",
    "     return Pout"
   ]
  },
  {
   "cell_type": "code",
   "execution_count": null,
   "id": "23d54322",
   "metadata": {},
   "outputs": [],
   "source": [
    "rMin = 4\n",
    "rMax = 13\n",
    "Drotor  = 120\n",
    "Pnom    = 4000\n",
    "Vws     = np.arange(0,30,0.001)\n",
    "\n",
    "Pout=Eval_WT_PowerCurve_v3(WT_param,Vws);\n",
    "hold on\n",
    "plot(WT_PowerCurve.Vws,WT_PowerCurve.Pout)\n",
    "\n",
    "subplot(2,1,1)\n",
    "hold on\n",
    "plot(WT_PowerCurve.Vws,WT_PowerCurve.Cp,WT_PowerCurve.Vws,WT_PowerCurve.Pnom./WT_PowerCurve.Pin,'--',WT_PowerCurve.Vws,WT_PowerCurve.Cp)\n",
    "xlabel('wind speed at hub height [m/s]')\n",
    "ylabel('Power coefficient Cp [-]')\n",
    "ylim([0 1])\n",
    "grid on\n",
    "subplot(2,1,2)\n",
    "hold on\n",
    "plot(WT_PowerCurve.Vws,WT_PowerCurve.Pout)\n",
    "xlabel('wind speed at hub height[m/s]')\n",
    "ylabel('wind turbine output power [kW]')\n",
    "grid on\n",
    "%}"
   ]
  },
  {
   "cell_type": "code",
   "execution_count": null,
   "id": "7329f837",
   "metadata": {},
   "outputs": [],
   "source": []
  },
  {
   "cell_type": "code",
   "execution_count": null,
   "id": "daea0a98",
   "metadata": {},
   "outputs": [],
   "source": []
  },
  {
   "cell_type": "code",
   "execution_count": null,
   "id": "273bbcbb",
   "metadata": {},
   "outputs": [],
   "source": []
  }
 ],
 "metadata": {
  "kernelspec": {
   "display_name": "Python 3 (ipykernel)",
   "language": "python",
   "name": "python3"
  },
  "language_info": {
   "codemirror_mode": {
    "name": "ipython",
    "version": 3
   },
   "file_extension": ".py",
   "mimetype": "text/x-python",
   "name": "python",
   "nbconvert_exporter": "python",
   "pygments_lexer": "ipython3",
   "version": "3.8.16"
  },
  "toc": {
   "base_numbering": 1,
   "nav_menu": {},
   "number_sections": true,
   "sideBar": true,
   "skip_h1_title": false,
   "title_cell": "Table of Contents",
   "title_sidebar": "Contents",
   "toc_cell": false,
   "toc_position": {},
   "toc_section_display": true,
   "toc_window_display": false
  },
  "varInspector": {
   "cols": {
    "lenName": 16,
    "lenType": 16,
    "lenVar": 40
   },
   "kernels_config": {
    "python": {
     "delete_cmd_postfix": "",
     "delete_cmd_prefix": "del ",
     "library": "var_list.py",
     "varRefreshCmd": "print(var_dic_list())"
    },
    "r": {
     "delete_cmd_postfix": ") ",
     "delete_cmd_prefix": "rm(",
     "library": "var_list.r",
     "varRefreshCmd": "cat(var_dic_list()) "
    }
   },
   "types_to_exclude": [
    "module",
    "function",
    "builtin_function_or_method",
    "instance",
    "_Feature"
   ],
   "window_display": false
  }
 },
 "nbformat": 4,
 "nbformat_minor": 5
}
